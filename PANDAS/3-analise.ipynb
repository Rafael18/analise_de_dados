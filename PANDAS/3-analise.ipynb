{
 "cells": [
  {
   "cell_type": "code",
   "execution_count": 9,
   "id": "8150138d",
   "metadata": {},
   "outputs": [],
   "source": [
    "import pandas as pd"
   ]
  },
  {
   "cell_type": "code",
   "execution_count": 10,
   "id": "266e57df",
   "metadata": {},
   "outputs": [],
   "source": [
    "dados_vendas = {\n",
    "    'Produto': ['Camisa', 'Calça', 'Saia', 'Camisa', 'Calça', 'Saia', 'Camiseta', 'Calça', 'Saia'],\n",
    "    'Preço': [50, 100, 80, 55, 110, 85, 45, 95, 90],\n",
    "    'Quantidade': [10, 15, 20, 5, 10, 15, 30, 20, 10],\n",
    "    'Mês': ['Jan', 'Jan', 'Jan', 'Fev', 'Fev', 'Fev', 'Mar', 'Mar', 'Mar']\n",
    "}\n",
    "\n",
    "df_vendas = pd.DataFrame(dados_vendas)"
   ]
  },
  {
   "cell_type": "code",
   "execution_count": 11,
   "id": "3950d534",
   "metadata": {},
   "outputs": [
    {
     "data": {
      "text/html": [
       "<div>\n",
       "<style scoped>\n",
       "    .dataframe tbody tr th:only-of-type {\n",
       "        vertical-align: middle;\n",
       "    }\n",
       "\n",
       "    .dataframe tbody tr th {\n",
       "        vertical-align: top;\n",
       "    }\n",
       "\n",
       "    .dataframe thead th {\n",
       "        text-align: right;\n",
       "    }\n",
       "</style>\n",
       "<table border=\"1\" class=\"dataframe\">\n",
       "  <thead>\n",
       "    <tr style=\"text-align: right;\">\n",
       "      <th></th>\n",
       "      <th>Produto</th>\n",
       "      <th>Preço</th>\n",
       "      <th>Quantidade</th>\n",
       "      <th>Mês</th>\n",
       "    </tr>\n",
       "  </thead>\n",
       "  <tbody>\n",
       "    <tr>\n",
       "      <th>0</th>\n",
       "      <td>Camisa</td>\n",
       "      <td>50</td>\n",
       "      <td>10</td>\n",
       "      <td>Jan</td>\n",
       "    </tr>\n",
       "    <tr>\n",
       "      <th>1</th>\n",
       "      <td>Calça</td>\n",
       "      <td>100</td>\n",
       "      <td>15</td>\n",
       "      <td>Jan</td>\n",
       "    </tr>\n",
       "    <tr>\n",
       "      <th>2</th>\n",
       "      <td>Saia</td>\n",
       "      <td>80</td>\n",
       "      <td>20</td>\n",
       "      <td>Jan</td>\n",
       "    </tr>\n",
       "    <tr>\n",
       "      <th>3</th>\n",
       "      <td>Camisa</td>\n",
       "      <td>55</td>\n",
       "      <td>5</td>\n",
       "      <td>Fev</td>\n",
       "    </tr>\n",
       "    <tr>\n",
       "      <th>4</th>\n",
       "      <td>Calça</td>\n",
       "      <td>110</td>\n",
       "      <td>10</td>\n",
       "      <td>Fev</td>\n",
       "    </tr>\n",
       "    <tr>\n",
       "      <th>5</th>\n",
       "      <td>Saia</td>\n",
       "      <td>85</td>\n",
       "      <td>15</td>\n",
       "      <td>Fev</td>\n",
       "    </tr>\n",
       "    <tr>\n",
       "      <th>6</th>\n",
       "      <td>Camiseta</td>\n",
       "      <td>45</td>\n",
       "      <td>30</td>\n",
       "      <td>Mar</td>\n",
       "    </tr>\n",
       "    <tr>\n",
       "      <th>7</th>\n",
       "      <td>Calça</td>\n",
       "      <td>95</td>\n",
       "      <td>20</td>\n",
       "      <td>Mar</td>\n",
       "    </tr>\n",
       "    <tr>\n",
       "      <th>8</th>\n",
       "      <td>Saia</td>\n",
       "      <td>90</td>\n",
       "      <td>10</td>\n",
       "      <td>Mar</td>\n",
       "    </tr>\n",
       "  </tbody>\n",
       "</table>\n",
       "</div>"
      ],
      "text/plain": [
       "    Produto  Preço  Quantidade  Mês\n",
       "0    Camisa     50          10  Jan\n",
       "1     Calça    100          15  Jan\n",
       "2      Saia     80          20  Jan\n",
       "3    Camisa     55           5  Fev\n",
       "4     Calça    110          10  Fev\n",
       "5      Saia     85          15  Fev\n",
       "6  Camiseta     45          30  Mar\n",
       "7     Calça     95          20  Mar\n",
       "8      Saia     90          10  Mar"
      ]
     },
     "execution_count": 11,
     "metadata": {},
     "output_type": "execute_result"
    }
   ],
   "source": [
    "df_vendas"
   ]
  },
  {
   "cell_type": "markdown",
   "id": "9e4a4994",
   "metadata": {},
   "source": [
    "**Calcular a Receita do Produto**\n",
    "- Incluir uma nova coluna Receita\n",
    "- Preencher com o valor da receita do produto (Receita = Preço x Vendas)"
   ]
  },
  {
   "cell_type": "code",
   "execution_count": 12,
   "id": "26693fbf",
   "metadata": {},
   "outputs": [
    {
     "data": {
      "text/html": [
       "<div>\n",
       "<style scoped>\n",
       "    .dataframe tbody tr th:only-of-type {\n",
       "        vertical-align: middle;\n",
       "    }\n",
       "\n",
       "    .dataframe tbody tr th {\n",
       "        vertical-align: top;\n",
       "    }\n",
       "\n",
       "    .dataframe thead th {\n",
       "        text-align: right;\n",
       "    }\n",
       "</style>\n",
       "<table border=\"1\" class=\"dataframe\">\n",
       "  <thead>\n",
       "    <tr style=\"text-align: right;\">\n",
       "      <th></th>\n",
       "      <th>Produto</th>\n",
       "      <th>Preço</th>\n",
       "      <th>Quantidade</th>\n",
       "      <th>Mês</th>\n",
       "      <th>Receita</th>\n",
       "    </tr>\n",
       "  </thead>\n",
       "  <tbody>\n",
       "    <tr>\n",
       "      <th>0</th>\n",
       "      <td>Camisa</td>\n",
       "      <td>50</td>\n",
       "      <td>10</td>\n",
       "      <td>Jan</td>\n",
       "      <td>500</td>\n",
       "    </tr>\n",
       "    <tr>\n",
       "      <th>1</th>\n",
       "      <td>Calça</td>\n",
       "      <td>100</td>\n",
       "      <td>15</td>\n",
       "      <td>Jan</td>\n",
       "      <td>1500</td>\n",
       "    </tr>\n",
       "    <tr>\n",
       "      <th>2</th>\n",
       "      <td>Saia</td>\n",
       "      <td>80</td>\n",
       "      <td>20</td>\n",
       "      <td>Jan</td>\n",
       "      <td>1600</td>\n",
       "    </tr>\n",
       "    <tr>\n",
       "      <th>3</th>\n",
       "      <td>Camisa</td>\n",
       "      <td>55</td>\n",
       "      <td>5</td>\n",
       "      <td>Fev</td>\n",
       "      <td>275</td>\n",
       "    </tr>\n",
       "    <tr>\n",
       "      <th>4</th>\n",
       "      <td>Calça</td>\n",
       "      <td>110</td>\n",
       "      <td>10</td>\n",
       "      <td>Fev</td>\n",
       "      <td>1100</td>\n",
       "    </tr>\n",
       "    <tr>\n",
       "      <th>5</th>\n",
       "      <td>Saia</td>\n",
       "      <td>85</td>\n",
       "      <td>15</td>\n",
       "      <td>Fev</td>\n",
       "      <td>1275</td>\n",
       "    </tr>\n",
       "    <tr>\n",
       "      <th>6</th>\n",
       "      <td>Camiseta</td>\n",
       "      <td>45</td>\n",
       "      <td>30</td>\n",
       "      <td>Mar</td>\n",
       "      <td>1350</td>\n",
       "    </tr>\n",
       "    <tr>\n",
       "      <th>7</th>\n",
       "      <td>Calça</td>\n",
       "      <td>95</td>\n",
       "      <td>20</td>\n",
       "      <td>Mar</td>\n",
       "      <td>1900</td>\n",
       "    </tr>\n",
       "    <tr>\n",
       "      <th>8</th>\n",
       "      <td>Saia</td>\n",
       "      <td>90</td>\n",
       "      <td>10</td>\n",
       "      <td>Mar</td>\n",
       "      <td>900</td>\n",
       "    </tr>\n",
       "  </tbody>\n",
       "</table>\n",
       "</div>"
      ],
      "text/plain": [
       "    Produto  Preço  Quantidade  Mês  Receita\n",
       "0    Camisa     50          10  Jan      500\n",
       "1     Calça    100          15  Jan     1500\n",
       "2      Saia     80          20  Jan     1600\n",
       "3    Camisa     55           5  Fev      275\n",
       "4     Calça    110          10  Fev     1100\n",
       "5      Saia     85          15  Fev     1275\n",
       "6  Camiseta     45          30  Mar     1350\n",
       "7     Calça     95          20  Mar     1900\n",
       "8      Saia     90          10  Mar      900"
      ]
     },
     "execution_count": 12,
     "metadata": {},
     "output_type": "execute_result"
    }
   ],
   "source": [
    "df_vendas['Receita'] = df_vendas['Preço'] * df_vendas['Quantidade']\n",
    "df_vendas"
   ]
  },
  {
   "cell_type": "markdown",
   "id": "6547fe2b",
   "metadata": {},
   "source": [
    "**Receita Total por Produto**\n",
    "- Agrupar os produtos iguais e somar os valores"
   ]
  },
  {
   "cell_type": "code",
   "execution_count": 13,
   "id": "780ca956",
   "metadata": {},
   "outputs": [
    {
     "data": {
      "text/html": [
       "<div>\n",
       "<style scoped>\n",
       "    .dataframe tbody tr th:only-of-type {\n",
       "        vertical-align: middle;\n",
       "    }\n",
       "\n",
       "    .dataframe tbody tr th {\n",
       "        vertical-align: top;\n",
       "    }\n",
       "\n",
       "    .dataframe thead th {\n",
       "        text-align: right;\n",
       "    }\n",
       "</style>\n",
       "<table border=\"1\" class=\"dataframe\">\n",
       "  <thead>\n",
       "    <tr style=\"text-align: right;\">\n",
       "      <th></th>\n",
       "      <th>Produto</th>\n",
       "      <th>Receita</th>\n",
       "    </tr>\n",
       "  </thead>\n",
       "  <tbody>\n",
       "    <tr>\n",
       "      <th>0</th>\n",
       "      <td>Calça</td>\n",
       "      <td>4500</td>\n",
       "    </tr>\n",
       "    <tr>\n",
       "      <th>1</th>\n",
       "      <td>Camisa</td>\n",
       "      <td>775</td>\n",
       "    </tr>\n",
       "    <tr>\n",
       "      <th>2</th>\n",
       "      <td>Camiseta</td>\n",
       "      <td>1350</td>\n",
       "    </tr>\n",
       "    <tr>\n",
       "      <th>3</th>\n",
       "      <td>Saia</td>\n",
       "      <td>3775</td>\n",
       "    </tr>\n",
       "  </tbody>\n",
       "</table>\n",
       "</div>"
      ],
      "text/plain": [
       "    Produto  Receita\n",
       "0     Calça     4500\n",
       "1    Camisa      775\n",
       "2  Camiseta     1350\n",
       "3      Saia     3775"
      ]
     },
     "execution_count": 13,
     "metadata": {},
     "output_type": "execute_result"
    }
   ],
   "source": [
    "resumo_vendas = df_vendas.groupby('Produto')['Receita'].sum().reset_index()\n",
    "resumo_vendas"
   ]
  },
  {
   "cell_type": "markdown",
   "id": "61534b3f",
   "metadata": {},
   "source": [
    "**Filtro com condição**\n",
    "- Filtrar produtos com valor acima de 1.000,00"
   ]
  },
  {
   "cell_type": "code",
   "execution_count": 14,
   "id": "855f0c8a",
   "metadata": {},
   "outputs": [
    {
     "data": {
      "text/html": [
       "<div>\n",
       "<style scoped>\n",
       "    .dataframe tbody tr th:only-of-type {\n",
       "        vertical-align: middle;\n",
       "    }\n",
       "\n",
       "    .dataframe tbody tr th {\n",
       "        vertical-align: top;\n",
       "    }\n",
       "\n",
       "    .dataframe thead th {\n",
       "        text-align: right;\n",
       "    }\n",
       "</style>\n",
       "<table border=\"1\" class=\"dataframe\">\n",
       "  <thead>\n",
       "    <tr style=\"text-align: right;\">\n",
       "      <th></th>\n",
       "      <th>Produto</th>\n",
       "      <th>Receita</th>\n",
       "    </tr>\n",
       "  </thead>\n",
       "  <tbody>\n",
       "    <tr>\n",
       "      <th>0</th>\n",
       "      <td>Calça</td>\n",
       "      <td>4500</td>\n",
       "    </tr>\n",
       "    <tr>\n",
       "      <th>2</th>\n",
       "      <td>Camiseta</td>\n",
       "      <td>1350</td>\n",
       "    </tr>\n",
       "    <tr>\n",
       "      <th>3</th>\n",
       "      <td>Saia</td>\n",
       "      <td>3775</td>\n",
       "    </tr>\n",
       "  </tbody>\n",
       "</table>\n",
       "</div>"
      ],
      "text/plain": [
       "    Produto  Receita\n",
       "0     Calça     4500\n",
       "2  Camiseta     1350\n",
       "3      Saia     3775"
      ]
     },
     "execution_count": 14,
     "metadata": {},
     "output_type": "execute_result"
    }
   ],
   "source": [
    "produtos_altas_vendas = resumo_vendas[resumo_vendas['Receita'] > 1000]\n",
    "produtos_altas_vendas"
   ]
  },
  {
   "cell_type": "markdown",
   "id": "91f0ee61",
   "metadata": {},
   "source": [
    "**Gerando Gráficos com Matplotlib.pyplot**\n",
    "- Gerar grafico para melhor visualizar os dados"
   ]
  },
  {
   "cell_type": "code",
   "execution_count": 16,
   "id": "6ae7b457",
   "metadata": {},
   "outputs": [],
   "source": [
    "import matplotlib.pyplot as plt"
   ]
  },
  {
   "cell_type": "code",
   "execution_count": 19,
   "id": "e580e665",
   "metadata": {},
   "outputs": [
    {
     "data": {
      "text/plain": [
       "([0, 1, 2, 3],\n",
       " [Text(0, 0, 'Calça'),\n",
       "  Text(1, 0, 'Camisa'),\n",
       "  Text(2, 0, 'Camiseta'),\n",
       "  Text(3, 0, 'Saia')])"
      ]
     },
     "execution_count": 19,
     "metadata": {},
     "output_type": "execute_result"
    },
    {
     "data": {
      "image/png": "[encoded data removed]",
      "text/plain": [
       "<Figure size 800x500 with 1 Axes>"
      ]
     },
     "metadata": {},
     "output_type": "display_data"
    }
   ],
   "source": [
    "plt.figure(figsize=(8, 5))\n",
    "plt.bar(resumo_vendas['Produto'], resumo_vendas['Receita'], color='skyblue')\n",
    "plt.title('Receita total por Produto')\n",
    "plt.xlabel('Produto')\n",
    "plt.ylabel('Receita R$')\n",
    "plt.xticks(rotation=45)"
   ]
  }
 ],
 "metadata": {
  "kernelspec": {
   "display_name": "Python 3",
   "language": "python",
   "name": "python3"
  },
  "language_info": {
   "codemirror_mode": {
    "name": "ipython",
    "version": 3
   },
   "file_extension": ".py",
   "mimetype": "text/x-python",
   "name": "python",
   "nbconvert_exporter": "python",
   "pygments_lexer": "ipython3",
   "version": "3.13.2"
  }
 },
 "nbformat": 4,
 "nbformat_minor": 5
}
