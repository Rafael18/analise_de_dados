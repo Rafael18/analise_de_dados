{
 "cells": [
  {
   "cell_type": "code",
   "execution_count": 8,
   "id": "facb9bef",
   "metadata": {},
   "outputs": [],
   "source": [
    "import numpy as np"
   ]
  },
  {
   "cell_type": "code",
   "execution_count": 9,
   "id": "9438e4cc",
   "metadata": {},
   "outputs": [],
   "source": [
    "array = np.array([[1, 2, 3],\n",
    "                  [4, 5, 6],\n",
    "                  [7, 8, 9]])"
   ]
  },
  {
   "cell_type": "code",
   "execution_count": 10,
   "id": "ea81543c",
   "metadata": {},
   "outputs": [
    {
     "name": "stdout",
     "output_type": "stream",
     "text": [
      "1 2 3 4 5 6 7 8 9 "
     ]
    }
   ],
   "source": [
    "# Interação Simples usando Loop FOR\n",
    "for linha in array:\n",
    "    for valor in linha:\n",
    "        print(valor, end=' ')"
   ]
  },
  {
   "cell_type": "code",
   "execution_count": 11,
   "id": "23b58596",
   "metadata": {},
   "outputs": [
    {
     "name": "stdout",
     "output_type": "stream",
     "text": [
      "1 2 3 4 5 6 7 8 9 "
     ]
    }
   ],
   "source": [
    "# Interação com o np.nditer para uma interação mais eficiente\n",
    "for valor in np.nditer(array):\n",
    "    print(valor, end = ' ')"
   ]
  },
  {
   "cell_type": "code",
   "execution_count": 12,
   "metadata": {},
   "outputs": [
    {
     "name": "stdout",
     "output_type": "stream",
     "text": [
      "6 7 8 9 "
     ]
    }
   ],
   "source": [
    "# Interação com Condição\n",
    "for valor in np.nditer(array):\n",
    "    if valor > 5:\n",
    "        print(valor, end=' ')"
   ]
  },
  {
   "cell_type": "code",
   "execution_count": 13,
   "id": "b2dd9d08",
   "metadata": {},
   "outputs": [
    {
     "name": "stdout",
     "output_type": "stream",
     "text": [
      "Elemento na posição (0, 0): 1\n",
      "Elemento na posição (0, 1): 2\n",
      "Elemento na posição (0, 2): 3\n",
      "Elemento na posição (1, 0): 4\n",
      "Elemento na posição (1, 1): 5\n",
      "Elemento na posição (1, 2): 6\n",
      "Elemento na posição (2, 0): 7\n",
      "Elemento na posição (2, 1): 8\n",
      "Elemento na posição (2, 2): 9\n"
     ]
    }
   ],
   "source": [
    "#Interação com Indices\n",
    "for i in range(array.shape[0]): #Iterando sobre as linhas\n",
    "    for j in range(array.shape[1]):\n",
    "        print(f'Elemento na posição ({i}, {j}): {array[i, j]}')"
   ]
  }
 ],
 "metadata": {
  "kernelspec": {
   "display_name": "Python 3",
   "language": "python",
   "name": "python3"
  },
  "language_info": {
   "codemirror_mode": {
    "name": "ipython",
    "version": 3
   },
   "file_extension": ".py",
   "mimetype": "text/x-python",
   "name": "python",
   "nbconvert_exporter": "python",
   "pygments_lexer": "ipython3",
   "version": "3.13.2"
  }
 },
 "nbformat": 4,
 "nbformat_minor": 5
}
