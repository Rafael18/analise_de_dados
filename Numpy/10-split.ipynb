{
 "cells": [
  {
   "cell_type": "code",
   "execution_count": 2,
   "id": "04ebf034",
   "metadata": {},
   "outputs": [],
   "source": [
    "import numpy as np"
   ]
  },
  {
   "cell_type": "code",
   "execution_count": 3,
   "id": "bb920425",
   "metadata": {},
   "outputs": [
    {
     "data": {
      "text/plain": [
       "array([1, 2, 3, 4, 5, 6])"
      ]
     },
     "execution_count": 3,
     "metadata": {},
     "output_type": "execute_result"
    }
   ],
   "source": [
    "array = np.array([1, 2, 3, 4, 5, 6])\n",
    "array"
   ]
  },
  {
   "cell_type": "code",
   "execution_count": 4,
   "metadata": {},
   "outputs": [
    {
     "data": {
      "text/plain": [
       "[array([1, 2]), array([3, 4]), array([5, 6])]"
      ]
     },
     "execution_count": 4,
     "metadata": {},
     "output_type": "execute_result"
    }
   ],
   "source": [
    "arrays_dividido = np.split(array, 3)\n",
    "arrays_dividido"
   ]
  },
  {
   "cell_type": "code",
   "execution_count": 5,
   "id": "3f5291d9",
   "metadata": {},
   "outputs": [
    {
     "name": "stdout",
     "output_type": "stream",
     "text": [
      "Parte 1-> [1 2]\n",
      "Parte 2-> [3 4]\n",
      "Parte 3-> [5 6]\n"
     ]
    }
   ],
   "source": [
    "for i, value in enumerate(arrays_dividido):\n",
    "    print(f'Parte {i+1}-> {value}')"
   ]
  },
  {
   "cell_type": "code",
   "execution_count": 15,
   "metadata": {},
   "outputs": [
    {
     "name": "stdout",
     "output_type": "stream",
     "text": [
      "32\n",
      "[22 21 23 25 20 19 21 24 26 27 25 22 20 18 19 20 21 22 23 24 25 26 27 28\n",
      " 29 30 29 28 27 26 26 24]\n"
     ]
    }
   ],
   "source": [
    "#Criando um arry 1D com temperaturas diárias de um mês (30 dias)\n",
    "temperaturas = np.array([22, 21, 23, 25, 20, 19, 21,\n",
    "                        24, 26, 27, 25, 22,\n",
    "                        20, 18, 19, 20, 21,\n",
    "                        22, 23, 24, 25, 26,\n",
    "                        27, 28, 29, 30, 29,\n",
    "                        28, 27, 26, 26, 24])\n",
    "print(temperaturas.__len__())\n",
    "print(temperaturas)"
   ]
  },
  {
   "cell_type": "code",
   "execution_count": 17,
   "id": "78d4f434",
   "metadata": {},
   "outputs": [
    {
     "data": {
      "text/plain": [
       "[array([22, 21, 23, 25, 20, 19, 21, 24]),\n",
       " array([26, 27, 25, 22, 20, 18, 19, 20]),\n",
       " array([21, 22, 23, 24, 25, 26, 27, 28]),\n",
       " array([29, 30, 29, 28, 27, 26, 26, 24])]"
      ]
     },
     "execution_count": 17,
     "metadata": {},
     "output_type": "execute_result"
    }
   ],
   "source": [
    "semanas = np.split(temperaturas, 4)\n",
    "semanas"
   ]
  },
  {
   "cell_type": "code",
   "execution_count": 18,
   "metadata": {},
   "outputs": [
    {
     "name": "stdout",
     "output_type": "stream",
     "text": [
      "Semana 1: [22 21 23 25 20 19 21 24]\n",
      "Semana 2: [26 27 25 22 20 18 19 20]\n",
      "Semana 3: [21 22 23 24 25 26 27 28]\n",
      "Semana 4: [29 30 29 28 27 26 26 24]\n"
     ]
    }
   ],
   "source": [
    "for i, value in enumerate(semanas):\n",
    "    print(f'Semana {i+1}: {value}')"
   ]
  },
  {
   "cell_type": "code",
   "execution_count": 19,
   "id": "3a4dbc0e",
   "metadata": {},
   "outputs": [
    {
     "data": {
      "text/plain": [
       "[np.float64(21.875), np.float64(22.125), np.float64(24.5), np.float64(27.375)]"
      ]
     },
     "execution_count": 19,
     "metadata": {},
     "output_type": "execute_result"
    }
   ],
   "source": [
    "medias_semanas = [np.mean(semana) for semana in semanas]\n",
    "medias_semanas"
   ]
  },
  {
   "cell_type": "code",
   "execution_count": 23,
   "id": "a2f7790b",
   "metadata": {},
   "outputs": [
    {
     "name": "stdout",
     "output_type": "stream",
     "text": [
      "Media semana 1 ; 21.88 ºC\n",
      "Media semana 2 ; 22.12 ºC\n",
      "Media semana 3 ; 24.50 ºC\n",
      "Media semana 4 ; 27.38 ºC\n"
     ]
    }
   ],
   "source": [
    "for i, value in enumerate(medias_semanas):\n",
    "    print(f'Media semana {i+1} ; {value:.2f} ºC')"
   ]
  }
 ],
 "metadata": {
  "kernelspec": {
   "display_name": "Python 3",
   "language": "python",
   "name": "python3"
  },
  "language_info": {
   "codemirror_mode": {
    "name": "ipython",
    "version": 3
   },
   "file_extension": ".py",
   "mimetype": "text/x-python",
   "name": "python",
   "nbconvert_exporter": "python",
   "pygments_lexer": "ipython3",
   "version": "3.13.2"
  }
 },
 "nbformat": 4,
 "nbformat_minor": 5
}
