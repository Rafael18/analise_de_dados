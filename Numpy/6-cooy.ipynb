{
 "cells": [
  {
   "cell_type": "markdown",
   "id": "4c0bfc54",
   "metadata": {},
   "source": [
    "**Copy**\n",
    "- Uma nova cópia do array é criada em memória. Isso significa que as 2 matrizes (original e cópia) são independentes uma da outra."
   ]
  },
  {
   "cell_type": "markdown",
   "id": "57c098e6",
   "metadata": {},
   "source": [
    "**View**\n",
    "- Não é criada uma nova cópia na memória. A view compartilha os mesmos dados que o array original"
   ]
  },
  {
   "cell_type": "code",
   "execution_count": 3,
   "id": "728fd0cc",
   "metadata": {},
   "outputs": [],
   "source": [
    "import numpy as np"
   ]
  },
  {
   "cell_type": "code",
   "execution_count": 4,
   "id": "ececbe1e",
   "metadata": {},
   "outputs": [
    {
     "data": {
      "text/plain": [
       "array([[1, 2, 3],\n",
       "       [4, 5, 6],\n",
       "       [7, 8, 9]])"
      ]
     },
     "execution_count": 4,
     "metadata": {},
     "output_type": "execute_result"
    }
   ],
   "source": [
    "array_original = np.array([[1, 2, 3],\n",
    "                           [4, 5, 6],\n",
    "                           [7, 8, 9]])\n",
    "array_original"
   ]
  },
  {
   "cell_type": "code",
   "execution_count": 6,
   "id": "f0a3ff0c",
   "metadata": {},
   "outputs": [
    {
     "data": {
      "text/plain": [
       "array([[5, 6],\n",
       "       [8, 9]])"
      ]
     },
     "execution_count": 6,
     "metadata": {},
     "output_type": "execute_result"
    }
   ],
   "source": [
    "# Cópia Rasa (View)\n",
    "array_view = array_original[1: , 1:]\n",
    "array_view"
   ]
  },
  {
   "cell_type": "code",
   "execution_count": null,
   "id": "f047f5a8",
   "metadata": {},
   "outputs": [
    {
     "data": {
      "text/plain": [
       "array([[99,  6],\n",
       "       [ 8,  9]])"
      ]
     },
     "execution_count": 8,
     "metadata": {},
     "output_type": "execute_result"
    }
   ],
   "source": [
    "# Alterando o array_view\n",
    "array_view[0,0] = 99\n",
    "array_view"
   ]
  },
  {
   "cell_type": "code",
   "execution_count": 9,
   "id": "f7741698",
   "metadata": {},
   "outputs": [
    {
     "data": {
      "text/plain": [
       "array([[ 1,  2,  3],\n",
       "       [ 4, 99,  6],\n",
       "       [ 7,  8,  9]])"
      ]
     },
     "execution_count": 9,
     "metadata": {},
     "output_type": "execute_result"
    }
   ],
   "source": [
    "# Alteração reflete direto no array_original\n",
    "array_original"
   ]
  },
  {
   "cell_type": "code",
   "execution_count": 10,
   "id": "63a5d4e8",
   "metadata": {},
   "outputs": [
    {
     "data": {
      "text/plain": [
       "array([[ 1,  2,  3],\n",
       "       [ 4, 99,  6],\n",
       "       [ 7,  8,  9]])"
      ]
     },
     "execution_count": 10,
     "metadata": {},
     "output_type": "execute_result"
    }
   ],
   "source": [
    "# Cópia Profunda (Copy)\n",
    "array_copia = array_original.copy()\n",
    "array_copia"
   ]
  },
  {
   "cell_type": "code",
   "execution_count": null,
   "id": "3b62dce2",
   "metadata": {},
   "outputs": [
    {
     "data": {
      "text/plain": [
       "array([[222,   2,   3],\n",
       "       [  4,  99,   6],\n",
       "       [  7,   8,   9]])"
      ]
     },
     "execution_count": 11,
     "metadata": {},
     "output_type": "execute_result"
    }
   ],
   "source": [
    "# Alterando um valor do array copiado\n",
    "array_copia[0,0] = 222\n",
    "array_copia"
   ]
  },
  {
   "cell_type": "code",
   "execution_count": 13,
   "id": "65095cd2",
   "metadata": {},
   "outputs": [
    {
     "data": {
      "text/plain": [
       "array([[ 1,  2,  3],\n",
       "       [ 4, 99,  6],\n",
       "       [ 7,  8,  9]])"
      ]
     },
     "execution_count": 13,
     "metadata": {},
     "output_type": "execute_result"
    }
   ],
   "source": [
    "# A mudança não reflete no array_original\n",
    "array_original"
   ]
  }
 ],
 "metadata": {
  "kernelspec": {
   "display_name": "Python 3",
   "language": "python",
   "name": "python3"
  },
  "language_info": {
   "codemirror_mode": {
    "name": "ipython",
    "version": 3
   },
   "file_extension": ".py",
   "mimetype": "text/x-python",
   "name": "python",
   "nbconvert_exporter": "python",
   "pygments_lexer": "ipython3",
   "version": "3.13.2"
  }
 },
 "nbformat": 4,
 "nbformat_minor": 5
}
